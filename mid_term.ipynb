{
 "cells": [
  {
   "cell_type": "markdown",
   "metadata": {},
   "source": [
    "# Mid-Term Project\n",
    "## DSC-540"
   ]
  },
  {
   "cell_type": "code",
   "execution_count": 2,
   "metadata": {},
   "outputs": [],
   "source": [
    "# import libraries\n",
    "from csv import DictReader\n",
    "from datetime import datetime\n",
    "\n",
    "\n",
    "# load data from data file and updated headers files\n",
    "data_rdr = DictReader(open('data/mid-term/Combined_News_DJIA.csv', 'r'))\n",
    "header_rdr = DictReader(open('data/mid-term/Combined_News_DJIA_updated_headers.csv', 'r',encoding = \"utf8\"))\n",
    "\n"
   ]
  },
  {
   "cell_type": "code",
   "execution_count": 3,
   "metadata": {},
   "outputs": [],
   "source": [
    "# writing the iterable DictReader object into a new list using list generator format\n",
    "data_rows = [d for d in data_rdr]\n",
    "header_rows = [h for h in header_rdr]"
   ]
  },
  {
   "cell_type": "code",
   "execution_count": 4,
   "metadata": {},
   "outputs": [
    {
     "data": {
      "text/plain": [
       "[OrderedDict([('Date', '2008-08-08'),\n",
       "              ('Label', '0'),\n",
       "              ('Top1',\n",
       "               'b\"Georgia \\'downs two Russian warplanes\\' as countries move to brink of war\"'),\n",
       "              ('Top2', \"b'BREAKING: Musharraf to be impeached.'\"),\n",
       "              ('Top3',\n",
       "               \"b'Russia Today: Columns of troops roll into South Ossetia; footage from fighting (YouTube)'\"),\n",
       "              ('Top4',\n",
       "               \"b'Russian tanks are moving towards the capital of South Ossetia, which has reportedly been completely destroyed by Georgian artillery fire'\"),\n",
       "              ('Top5',\n",
       "               'b\"Afghan children raped with \\'impunity,\\' U.N. official says - this is sick, a three year old was raped and they do nothing\"'),\n",
       "              ('Top6',\n",
       "               \"b'150 Russian tanks have entered South Ossetia whilst Georgia shoots down two Russian jets.'\"),\n",
       "              ('Top7',\n",
       "               'b\"Breaking: Georgia invades South Ossetia, Russia warned it would intervene on SO\\'s side\"'),\n",
       "              ('Top8',\n",
       "               'b\"The \\'enemy combatent\\' trials are nothing but a sham: Salim Haman has been sentenced to 5 1/2 years, but will be kept longer anyway just because they feel like it.\"'),\n",
       "              ('Top9',\n",
       "               \"b'Georgian troops retreat from S. Osettain capital, presumably leaving several hundred people killed. [VIDEO]'\"),\n",
       "              ('Top10', \"b'Did the U.S. Prep Georgia for War with Russia?'\"),\n",
       "              ('Top11',\n",
       "               \"b'Rice Gives Green Light for Israel to Attack Iran: Says U.S. has no veto over Israeli military ops'\"),\n",
       "              ('Top12',\n",
       "               \"b'Announcing:Class Action Lawsuit on Behalf of American Public Against the FBI'\"),\n",
       "              ('Top13',\n",
       "               'b\"So---Russia and Georgia are at war and the NYT\\'s top story is opening ceremonies of the Olympics?  What a fucking disgrace and yet further proof of the decline of journalism.\"'),\n",
       "              ('Top14',\n",
       "               'b\"China tells Bush to stay out of other countries\\' affairs\"'),\n",
       "              ('Top15', \"b'Did World War III start today?'\"),\n",
       "              ('Top16',\n",
       "               \"b'Georgia Invades South Ossetia - if Russia gets involved, will NATO absorb Georgia and unleash a full scale war?'\"),\n",
       "              ('Top17', \"b'Al-Qaeda Faces Islamist Backlash'\"),\n",
       "              ('Top18',\n",
       "               'b\\'Condoleezza Rice: \"The US would not act to prevent an Israeli strike on Iran.\" Israeli Defense Minister Ehud Barak: \"Israel is prepared for uncompromising victory in the case of military hostilities.\"\\''),\n",
       "              ('Top19',\n",
       "               \"b'This is a busy day:  The European Union has approved new sanctions against Iran in protest at its nuclear programme.'\"),\n",
       "              ('Top20',\n",
       "               'b\"Georgia will withdraw 1,000 soldiers from Iraq to help fight off Russian forces in Georgia\\'s breakaway region of South Ossetia\"'),\n",
       "              ('Top21',\n",
       "               \"b'Why the Pentagon Thinks Attacking Iran is a Bad Idea - US News &amp; World Report'\"),\n",
       "              ('Top22',\n",
       "               \"b'Caucasus in crisis: Georgia invades South Ossetia'\"),\n",
       "              ('Top23',\n",
       "               'b\\'Indian shoe manufactory  - And again in a series of \"you do not like your work?\"\\''),\n",
       "              ('Top24',\n",
       "               \"b'Visitors Suffering from Mental Illnesses Banned from Olympics'\"),\n",
       "              ('Top25', 'b\"No Help for Mexico\\'s Kidnapping Surge\"')]),\n",
       " OrderedDict([('Date', '2008-08-11'),\n",
       "              ('Label', '1'),\n",
       "              ('Top1',\n",
       "               \"b'Why wont America and Nato help us? If they wont help us now, why did we help them in Iraq?'\"),\n",
       "              ('Top2', \"b'Bush puts foot down on Georgian conflict'\"),\n",
       "              ('Top3',\n",
       "               'b\"Jewish Georgian minister: Thanks to Israeli training, we\\'re fending off Russia \"'),\n",
       "              ('Top4',\n",
       "               \"b'Georgian army flees in disarray as Russians advance - Gori abandoned to Russia without a shot fired'\"),\n",
       "              ('Top5', 'b\"Olympic opening ceremony fireworks \\'faked\\'\"'),\n",
       "              ('Top6',\n",
       "               \"b'What were the Mossad with fraudulent New Zealand Passports doing in Iraq?'\"),\n",
       "              ('Top7',\n",
       "               \"b'Russia angered by Israeli military sale to Georgia'\"),\n",
       "              ('Top8',\n",
       "               \"b'An American citizen living in S.Ossetia blames U.S. and Georgian leaders for the genocide of innocent people'\"),\n",
       "              ('Top9', \"b'Welcome To World War IV! Now In High Definition!'\"),\n",
       "              ('Top10',\n",
       "               'b\"Georgia\\'s move, a mistake of monumental proportions \"'),\n",
       "              ('Top11',\n",
       "               \"b'Russia presses deeper into Georgia; U.S. says regime change is goal'\"),\n",
       "              ('Top12',\n",
       "               \"b'Abhinav Bindra wins first ever Individual Olympic Gold Medal for India'\"),\n",
       "              ('Top13', \"b' U.S. ship heads for Arctic to define territory'\"),\n",
       "              ('Top14',\n",
       "               \"b'Drivers in a Jerusalem taxi station threaten to quit rather than work for their new boss - an Arab'\"),\n",
       "              ('Top15',\n",
       "               \"b'The French Team is Stunned by Phelps and the 4x100m Relay Team'\"),\n",
       "              ('Top16',\n",
       "               \"b'Israel and the US behind the Georgian aggression?'\"),\n",
       "              ('Top17',\n",
       "               'b\\'\"Do not believe TV, neither Russian nor Georgian. There are much more victims\"\\''),\n",
       "              ('Top18',\n",
       "               \"b'Riots are still going on in Montreal (Canada) because police murdered a boy on Saturday.'\"),\n",
       "              ('Top19', \"b'China to overtake US as largest manufacturer'\"),\n",
       "              ('Top20', \"b'War in South Ossetia [PICS]'\"),\n",
       "              ('Top21', \"b'Israeli Physicians Group Condemns State Torture'\"),\n",
       "              ('Top22',\n",
       "               \"b' Russia has just beaten the United States over the head with Peak Oil'\"),\n",
       "              ('Top23',\n",
       "               \"b'Perhaps *the* question about the Georgia - Russia conflict '\"),\n",
       "              ('Top24', \"b'Russia is so much better at war'\"),\n",
       "              ('Top25',\n",
       "               'b\"So this is what it\\'s come to: trading sex for food.\"')]),\n",
       " OrderedDict([('Date', '2008-08-12'),\n",
       "              ('Label', '0'),\n",
       "              ('Top1',\n",
       "               \"b'Remember that adorable 9-year-old who sang at the opening ceremonies? That was fake, too.'\"),\n",
       "              ('Top2', 'b\"Russia \\'ends Georgia operation\\'\"'),\n",
       "              ('Top3',\n",
       "               'b\\'\"If we had no sexual harassment we would have no children...\"\\''),\n",
       "              ('Top4',\n",
       "               'b\"Al-Qa\\'eda is losing support in Iraq because of a brutal crackdown on activities it regards as un-Islamic - including women buying cucumbers\"'),\n",
       "              ('Top5', \"b'Ceasefire in Georgia: Putin Outmaneuvers the West'\"),\n",
       "              ('Top6',\n",
       "               \"b'Why Microsoft and Intel tried to kill the XO $100 laptop'\"),\n",
       "              ('Top7',\n",
       "               \"b'Stratfor: The Russo-Georgian War and the Balance of Power   '\"),\n",
       "              ('Top8',\n",
       "               'b\"I\\'m Trying to Get a Sense of This Whole Georgia-Russia War: Vote Up If You Think Georgia Started It, Or Down If you Think Russia Did\"'),\n",
       "              ('Top9',\n",
       "               'b\"The US military was surprised by the timing and swiftness of the Russian military\\'s move into South Ossetia and is still trying to sort out what happened, a US defense official said Monday\"'),\n",
       "              ('Top10', \"b'U.S. Beats War Drum as Iran Dumps the Dollar'\"),\n",
       "              ('Top11',\n",
       "               'b\\'Gorbachev: \"Georgian military attacked the South Ossetian capital of Tskhinvali with multiple rocket launchers designed to devastate large areas\"\\''),\n",
       "              ('Top12',\n",
       "               \"b'CNN use footage of Tskhinvali ruins to cover Georgian report [VIDEO]'\"),\n",
       "              ('Top13',\n",
       "               \"b'Beginning a war as the Olympics were opening violates the ancient tradition of a truce to conflict during the Games.  The IOC could respond by taking the 2014 games away from Russia.'\"),\n",
       "              ('Top14',\n",
       "               \"b'55 pyramids as large as the Luxor stacked into a mega-city pyramid in Tokyo Bay'\"),\n",
       "              ('Top15', \"b'The 11 Top Party Cities in the World'\"),\n",
       "              ('Top16',\n",
       "               \"b'U.S. troops still in Georgia (did you know they were in Georgia in the first place?)'\"),\n",
       "              ('Top17', \"b'Why Russias response to Georgia was right'\"),\n",
       "              ('Top18',\n",
       "               'b\\'Gorbachev accuses U.S. of making a \"serious blunder\" in pursuing its interest in the Caucasus region\\''),\n",
       "              ('Top19', \"b'Russia, Georgia, and NATO: Cold War Two'\"),\n",
       "              ('Top20',\n",
       "               \"b'Remember that adorable 62-year-old who led your country into war based on evidence? That was fake, too.'\"),\n",
       "              ('Top21', \"b'War in Georgia: The Israeli connection'\"),\n",
       "              ('Top22',\n",
       "               \"b'All signs point to the US encouraging Georgia to invade South Ossetia. Goddamnit Bush.'\"),\n",
       "              ('Top23',\n",
       "               \"b'Christopher King argues that the US and NATO are behind the Georgian invasion of South Ossetia but have misjudged Russian resolve. '\"),\n",
       "              ('Top24', \"b'America: The New Mexico?'\"),\n",
       "              ('Top25',\n",
       "               'b\"BBC NEWS | Asia-Pacific | Extinction \\'by man not climate\\'\"')]),\n",
       " OrderedDict([('Date', '2008-08-13'),\n",
       "              ('Label', '0'),\n",
       "              ('Top1',\n",
       "               \"b' U.S. refuses Israel weapons to attack Iran: report'\"),\n",
       "              ('Top2',\n",
       "               'b\"When the president ordered to attack Tskhinvali [the capital of South Ossetia], we knew then we were doomed. How come he didn\\'t realize that?\"'),\n",
       "              ('Top3',\n",
       "               \"b' Israel clears troops who killed Reuters cameraman'\"),\n",
       "              ('Top4',\n",
       "               'b\\'Britain\\\\\\'s policy of being tough on drugs is \"pointless\", says a former civil servant who once ran the Cabinet\\\\\\'s anti-drugs unit.\\''),\n",
       "              ('Top5',\n",
       "               \"b'Body of 14 year old found in trunk; Latest (ransom paid) kidnapping victim in Mexico. Head cop quits, Prez dissolves suspect elite task force'\"),\n",
       "              ('Top6',\n",
       "               \"b'China has moved 10 *million* quake survivors into prefab homes'\"),\n",
       "              ('Top7',\n",
       "               'b\"Bush announces Operation Get All Up In Russia\\'s Grill. Yeah, this will end well.\"'),\n",
       "              ('Top8', \"b'Russian forces sink Georgian ships '\"),\n",
       "              ('Top9',\n",
       "               'b\"The commander of a Navy air reconnaissance squadron that provides the President and the defense secretary the airborne ability to command the nation\\'s nuclear weapons has been relieved of duty\"'),\n",
       "              ('Top10',\n",
       "               'b\"92% of CNN readers: Russia\\'s actions in Georgia - justified!\"'),\n",
       "              ('Top11',\n",
       "               'b\\'USA to send fleet into Black Sea to help Georgia, send troops in \"humanitarian aid exercise\"\\''),\n",
       "              ('Top12',\n",
       "               'b\"US warns against Israeli plan to strike against Iran\\'s nuclear facilities\"'),\n",
       "              ('Top13',\n",
       "               'b\"In an intriguing cyberalliance, two Estonian computer experts are heading to Georgia to keep the country\\'s networks running amid an intense military confrontation with Russia\"'),\n",
       "              ('Top14',\n",
       "               \"b'The CNN Effect: Georgia Schools Russia in Information Warfare'\"),\n",
       "              ('Top15', \"b'Why Russias response to Georgia was right'\"),\n",
       "              ('Top16', \"b'Elephants extinct by 2020?'\"),\n",
       "              ('Top17',\n",
       "               \"b'US humanitarian missions soon in Georgia - if Russia hits the US - WWIII?'\"),\n",
       "              ('Top18', 'b\"Georgia\\'s DDOS came from US sources\"'),\n",
       "              ('Top19',\n",
       "               \"b'Russian convoy heads into Georgia, violating truce'\"),\n",
       "              ('Top20',\n",
       "               \"b'Israeli defence minister: US against strike on Iran'\"),\n",
       "              ('Top21', \"b'Gorbachev: We Had No Choice'\"),\n",
       "              ('Top22',\n",
       "               \"b'Witness: Russian forces head towards Tbilisi in breach of ceasefire agreement'\"),\n",
       "              ('Top23',\n",
       "               \"b' Quarter of Russians blame U.S. for conflict: poll'\"),\n",
       "              ('Top24',\n",
       "               \"b'Georgian president  says US military will take control of seaports and airports - Pentagon denies'\"),\n",
       "              ('Top25',\n",
       "               \"b'2006: Nobel laureate Aleksander Solzhenitsyn accuses U.S., NATO of encircling Russia'\")]),\n",
       " OrderedDict([('Date', '2008-08-14'),\n",
       "              ('Label', '1'),\n",
       "              ('Top1',\n",
       "               \"b'All the experts admit that we should legalise drugs '\"),\n",
       "              ('Top2',\n",
       "               \"b'War in South Osetia - 89 pictures made by a Russian soldier.'\"),\n",
       "              ('Top3',\n",
       "               \"b'Swedish wrestler Ara Abrahamian throws away medal in Olympic hissy fit '\"),\n",
       "              ('Top4',\n",
       "               \"b'Russia exaggerated the death toll in South Ossetia. Now only 44 were originally killed compared to 2,000.'\"),\n",
       "              ('Top5',\n",
       "               \"b'Missile That Killed 9 Inside Pakistan May Have Been Launched by the CIA'\"),\n",
       "              ('Top6',\n",
       "               'b\"Rushdie Condemns Random House\\'s Refusal to Publish Novel for Fear of Muslim Retaliation\"'),\n",
       "              ('Top7',\n",
       "               \"b'Poland and US agree to missle defense deal. Interesting timing!'\"),\n",
       "              ('Top8',\n",
       "               \"b'Will the Russians conquer Tblisi? Bet on it, no seriously you can BET on it'\"),\n",
       "              ('Top9',\n",
       "               \"b'Russia exaggerating South Ossetian death toll, says human rights group'\"),\n",
       "              ('Top10',\n",
       "               \"b' Musharraf expected to resign rather than face impeachment'\"),\n",
       "              ('Top11', \"b'Moscow Made Plans Months Ago to Invade Georgia'\"),\n",
       "              ('Top12', \"b'Why Russias response to Georgia was right'\"),\n",
       "              ('Top13',\n",
       "               \"b'Nigeria has handed over the potentially oil-rich Bakassi peninsula to Cameroon.'\"),\n",
       "              ('Top14',\n",
       "               \"b'The US and Poland have agreed a preliminary deal on plans for the controversial US defence shield'\"),\n",
       "              ('Top15',\n",
       "               \"b'Russia apparently is sabotaging infrastructure to cripple the already battered Georgian military.'\"),\n",
       "              ('Top16',\n",
       "               \"b'Bank analyst forecast Georgian crisis 2 days early'\"),\n",
       "              ('Top17',\n",
       "               'b\"Georgia confict could set back Russia\\'s US relations \\'for years\\' | World news | guardian.co.uk\"'),\n",
       "              ('Top18',\n",
       "               \"b'War in the Caucasus is as much the product of an American imperial drive as local conflicts.'\"),\n",
       "              ('Top19',\n",
       "               'b\\'\"Non-media\" photos of South Ossetia/Georgia conflict.\\''),\n",
       "              ('Top20',\n",
       "               \"b'Georgian TV reporter shot by Russian sniper during live broadcast [video]'\"),\n",
       "              ('Top21',\n",
       "               \"b'Saudi Arabia: Mother moves to block child marriage'\"),\n",
       "              ('Top22', \"b'Taliban wages war on humanitarian aid workers'\"),\n",
       "              ('Top23',\n",
       "               'b\\'Russia: World  \"can forget about\" Georgia\\\\\\'s territorial integrity\\''),\n",
       "              ('Top24',\n",
       "               \"b'Darfur rebels accuse Sudan of mounting major attack'\"),\n",
       "              ('Top25',\n",
       "               \"b'Philippines : Peace Advocate say Muslims need assurance Christians not out to convert them'\")])]"
      ]
     },
     "execution_count": 4,
     "metadata": {},
     "output_type": "execute_result"
    }
   ],
   "source": [
    "#show the first five elements of data_rows \n",
    "data_rows[0:5]"
   ]
  },
  {
   "cell_type": "code",
   "execution_count": 5,
   "metadata": {},
   "outputs": [
    {
     "data": {
      "text/plain": [
       "[OrderedDict([('Name', 'Date'), ('Description', 'News_date')]),\n",
       " OrderedDict([('Name', 'Label'), ('Description', 'Stock_market_movement')]),\n",
       " OrderedDict([('Name', 'Top1'), ('Description', 'Top_news_headline1')]),\n",
       " OrderedDict([('Name', 'Top2'), ('Description', 'Top_news_headline2')]),\n",
       " OrderedDict([('Name', 'Top3'), ('Description', 'Top_news_headline3')])]"
      ]
     },
     "execution_count": 5,
     "metadata": {},
     "output_type": "execute_result"
    }
   ],
   "source": [
    "#show the first five elements of header_rows \n",
    "header_rows[0:5]"
   ]
  },
  {
   "cell_type": "code",
   "execution_count": 6,
   "metadata": {},
   "outputs": [],
   "source": [
    "#Creates a new list to populate with cleaned rows\n",
    "new_rows = []\n",
    "#Iterates over each of our data records\n",
    "for data_dict in data_rows:\n",
    "    #Creates a new dictionary for each row\n",
    "    new_row = {}\n",
    "    #Iterates over each key and value in each data row \n",
    "    for dkey, dval in data_dict.items():\n",
    "        for header_dict in header_rows:\n",
    "            #using if to find out the matching row\n",
    "            if dkey in header_dict.values():\n",
    "                #This sets the dictionary key equal to the Label value in the header row\n",
    "                new_row[header_dict.get('Description')] = dval\n",
    "    # Appends the new cleaned dictionary we created to our new array.           \n",
    "    new_rows.append(new_row)"
   ]
  },
  {
   "cell_type": "code",
   "execution_count": 7,
   "metadata": {},
   "outputs": [
    {
     "data": {
      "text/plain": [
       "{'News_date': '2008-08-08',\n",
       " 'Stock_market_movement': '0',\n",
       " 'Top_news_headline1': 'b\"Georgia \\'downs two Russian warplanes\\' as countries move to brink of war\"',\n",
       " 'Top_news_headline2': \"b'BREAKING: Musharraf to be impeached.'\",\n",
       " 'Top_news_headline3': \"b'Russia Today: Columns of troops roll into South Ossetia; footage from fighting (YouTube)'\",\n",
       " 'Top_news_headline4': \"b'Russian tanks are moving towards the capital of South Ossetia, which has reportedly been completely destroyed by Georgian artillery fire'\",\n",
       " 'Top_news_headline5': 'b\"Afghan children raped with \\'impunity,\\' U.N. official says - this is sick, a three year old was raped and they do nothing\"',\n",
       " 'Top_news_headline6': \"b'150 Russian tanks have entered South Ossetia whilst Georgia shoots down two Russian jets.'\",\n",
       " 'Top_news_headline7': 'b\"Breaking: Georgia invades South Ossetia, Russia warned it would intervene on SO\\'s side\"',\n",
       " 'Top_news_headline8': 'b\"The \\'enemy combatent\\' trials are nothing but a sham: Salim Haman has been sentenced to 5 1/2 years, but will be kept longer anyway just because they feel like it.\"',\n",
       " 'Top_news_headline9': \"b'Georgian troops retreat from S. Osettain capital, presumably leaving several hundred people killed. [VIDEO]'\",\n",
       " 'Top_news_headline10': \"b'Did the U.S. Prep Georgia for War with Russia?'\",\n",
       " 'Top_news_headline11': \"b'Rice Gives Green Light for Israel to Attack Iran: Says U.S. has no veto over Israeli military ops'\",\n",
       " 'Top_news_headline12': \"b'Announcing:Class Action Lawsuit on Behalf of American Public Against the FBI'\",\n",
       " 'Top_news_headline13': 'b\"So---Russia and Georgia are at war and the NYT\\'s top story is opening ceremonies of the Olympics?  What a fucking disgrace and yet further proof of the decline of journalism.\"',\n",
       " 'Top_news_headline14': 'b\"China tells Bush to stay out of other countries\\' affairs\"',\n",
       " 'Top_news_headline15': \"b'Did World War III start today?'\",\n",
       " 'Top_news_headline16': \"b'Georgia Invades South Ossetia - if Russia gets involved, will NATO absorb Georgia and unleash a full scale war?'\",\n",
       " 'Top_news_headline17': \"b'Al-Qaeda Faces Islamist Backlash'\",\n",
       " 'Top_news_headline18': 'b\\'Condoleezza Rice: \"The US would not act to prevent an Israeli strike on Iran.\" Israeli Defense Minister Ehud Barak: \"Israel is prepared for uncompromising victory in the case of military hostilities.\"\\'',\n",
       " 'Top_news_headline19': \"b'This is a busy day:  The European Union has approved new sanctions against Iran in protest at its nuclear programme.'\",\n",
       " 'Top_news_headline20': 'b\"Georgia will withdraw 1,000 soldiers from Iraq to help fight off Russian forces in Georgia\\'s breakaway region of South Ossetia\"',\n",
       " 'Top_news_headline21': \"b'Why the Pentagon Thinks Attacking Iran is a Bad Idea - US News &amp; World Report'\",\n",
       " 'Top_news_headline22': \"b'Caucasus in crisis: Georgia invades South Ossetia'\",\n",
       " 'Top_news_headline23': 'b\\'Indian shoe manufactory  - And again in a series of \"you do not like your work?\"\\'',\n",
       " 'Top_news_headline24': \"b'Visitors Suffering from Mental Illnesses Banned from Olympics'\",\n",
       " 'Top_news_headline25': 'b\"No Help for Mexico\\'s Kidnapping Surge\"'}"
      ]
     },
     "execution_count": 7,
     "metadata": {},
     "output_type": "execute_result"
    }
   ],
   "source": [
    "#first record of our new values\n",
    "new_rows[0]"
   ]
  },
  {
   "cell_type": "code",
   "execution_count": 8,
   "metadata": {},
   "outputs": [
    {
     "name": "stdout",
     "output_type": "stream",
     "text": [
      "News_date: 2008-08-08\n",
      "Stock_market_movement: 0\n",
      "Top_news_headline1: b\"Georgia 'downs two Russian warplanes' as countries move to brink of war\"\n",
      "Top_news_headline2: b'BREAKING: Musharraf to be impeached.'\n",
      "Top_news_headline3: b'Russia Today: Columns of troops roll into South Ossetia; footage from fighting (YouTube)'\n",
      "Top_news_headline4: b'Russian tanks are moving towards the capital of South Ossetia, which has reportedly been completely destroyed by Georgian artillery fire'\n",
      "Top_news_headline5: b\"Afghan children raped with 'impunity,' U.N. official says - this is sick, a three year old was raped and they do nothing\"\n",
      "Top_news_headline6: b'150 Russian tanks have entered South Ossetia whilst Georgia shoots down two Russian jets.'\n",
      "Top_news_headline7: b\"Breaking: Georgia invades South Ossetia, Russia warned it would intervene on SO's side\"\n",
      "Top_news_headline8: b\"The 'enemy combatent' trials are nothing but a sham: Salim Haman has been sentenced to 5 1/2 years, but will be kept longer anyway just because they feel like it.\"\n",
      "Top_news_headline9: b'Georgian troops retreat from S. Osettain capital, presumably leaving several hundred people killed. [VIDEO]'\n",
      "Top_news_headline10: b'Did the U.S. Prep Georgia for War with Russia?'\n",
      "Top_news_headline11: b'Rice Gives Green Light for Israel to Attack Iran: Says U.S. has no veto over Israeli military ops'\n",
      "Top_news_headline12: b'Announcing:Class Action Lawsuit on Behalf of American Public Against the FBI'\n",
      "Top_news_headline13: b\"So---Russia and Georgia are at war and the NYT's top story is opening ceremonies of the Olympics?  What a fucking disgrace and yet further proof of the decline of journalism.\"\n",
      "Top_news_headline14: b\"China tells Bush to stay out of other countries' affairs\"\n",
      "Top_news_headline15: b'Did World War III start today?'\n",
      "Top_news_headline16: b'Georgia Invades South Ossetia - if Russia gets involved, will NATO absorb Georgia and unleash a full scale war?'\n",
      "Top_news_headline17: b'Al-Qaeda Faces Islamist Backlash'\n",
      "Top_news_headline18: b'Condoleezza Rice: \"The US would not act to prevent an Israeli strike on Iran.\" Israeli Defense Minister Ehud Barak: \"Israel is prepared for uncompromising victory in the case of military hostilities.\"'\n",
      "Top_news_headline19: b'This is a busy day:  The European Union has approved new sanctions against Iran in protest at its nuclear programme.'\n",
      "Top_news_headline20: b\"Georgia will withdraw 1,000 soldiers from Iraq to help fight off Russian forces in Georgia's breakaway region of South Ossetia\"\n",
      "Top_news_headline21: b'Why the Pentagon Thinks Attacking Iran is a Bad Idea - US News &amp; World Report'\n",
      "Top_news_headline22: b'Caucasus in crisis: Georgia invades South Ossetia'\n",
      "Top_news_headline23: b'Indian shoe manufactory  - And again in a series of \"you do not like your work?\"'\n",
      "Top_news_headline24: b'Visitors Suffering from Mental Illnesses Banned from Olympics'\n",
      "Top_news_headline25: b\"No Help for Mexico's Kidnapping Surge\"\n"
     ]
    }
   ],
   "source": [
    "# Iterates over each key and value in first record of new values\n",
    "for dkey, dval in new_rows[0].items():\n",
    "    #  making the output more readable using format method\n",
    "    print('{}: {}'.format(dkey, dval))"
   ]
  },
  {
   "cell_type": "code",
   "execution_count": 12,
   "metadata": {
    "scrolled": true
   },
   "outputs": [
    {
     "name": "stdout",
     "output_type": "stream",
     "text": [
      "News_date: 2008-08-08\n",
      "Stock_market_movement: DJIA Adj Close value decreased\n",
      "Top_news_headline1: Georgia 'downs two Russian warplanes' as countries move to brink of war\"\n",
      "Top_news_headline2: BREAKING: Musharraf to be impeached.'\n",
      "Top_news_headline3: Russia Today: Columns of troops roll into South Ossetia; footage from fighting (YouTube)'\n",
      "Top_news_headline4: Russian tanks are moving towards the capital of South Ossetia, which has reportedly been completely destroyed by Georgian artillery fire'\n",
      "Top_news_headline5: Afghan children raped with 'impunity,' U.N. official says - this is sick, a three year old was raped and they do nothing\"\n",
      "Top_news_headline6: 150 Russian tanks have entered South Ossetia whilst Georgia shoots down two Russian jets.'\n",
      "Top_news_headline7: Breaking: Georgia invades South Ossetia, Russia warned it would intervene on SO's side\"\n",
      "Top_news_headline8: The 'enemy combatent' trials are nothing but a sham: Salim Haman has been sentenced to 5 1/2 years, but will be kept longer anyway just because they feel like it.\"\n",
      "Top_news_headline9: Georgian troops retreat from S. Osettain capital, presumably leaving several hundred people killed. [VIDEO]'\n",
      "Top_news_headline10: Did the U.S. Prep Georgia for War with Russia?'\n",
      "Top_news_headline11: Rice Gives Green Light for Israel to Attack Iran: Says U.S. has no veto over Israeli military ops'\n",
      "Top_news_headline12: Announcing:Class Action Lawsuit on Behalf of American Public Against the FBI'\n",
      "Top_news_headline13: So---Russia and Georgia are at war and the NYT's top story is opening ceremonies of the Olympics?  What a fucking disgrace and yet further proof of the decline of journalism.\"\n",
      "Top_news_headline14: China tells Bush to stay out of other countries' affairs\"\n",
      "Top_news_headline15: Did World War III start today?'\n",
      "Top_news_headline16: Georgia Invades South Ossetia - if Russia gets involved, will NATO absorb Georgia and unleash a full scale war?'\n",
      "Top_news_headline17: Al-Qaeda Faces Islamist Backlash'\n",
      "Top_news_headline18: Condoleezza Rice: \"The US would not act to prevent an Israeli strike on Iran.\" Israeli Defense Minister Ehud Barak: \"Israel is prepared for uncompromising victory in the case of military hostilities.\"'\n",
      "Top_news_headline19: This is a busy day:  The European Union has approved new sanctions against Iran in protest at its nuclear programme.'\n",
      "Top_news_headline20: Georgia will withdraw 1,000 soldiers from Iraq to help fight off Russian forces in Georgia's breakaway region of South Ossetia\"\n",
      "Top_news_headline21: Why the Pentagon Thinks Attacking Iran is a Bad Idea - US News &amp; World Report'\n",
      "Top_news_headline22: Caucasus in crisis: Georgia invades South Ossetia'\n",
      "Top_news_headline23: Indian shoe manufactory  - And again in a series of \"you do not like your work?\"'\n",
      "Top_news_headline24: Visitors Suffering from Mental Illnesses Banned from Olympics'\n",
      "Top_news_headline25: No Help for Mexico's Kidnapping Surge\"\n"
     ]
    }
   ],
   "source": [
    "# formatting data \n",
    "for i in range(len(new_rows)):\n",
    "    # replacing '0','1' values in 'Stock_market_movement' column\n",
    "    new_rows[i]['Stock_market_movement']=new_rows[i]['Stock_market_movement'].replace('0','DJIA Adj Close value decreased').replace('1','DJIA Adj Close value rose or stayed as the same')\n",
    "    for j in range(1,26):\n",
    "        #removing extra 'b'caused by encoding problem\n",
    "        new_rows[i]['Top_news_headline'+str(j)]=str(new_rows[i]['Top_news_headline'+str(j)]).replace(\"b'\",'').replace('b\"','').replace('\"b','').replace(\"'b\",'')\n",
    "\n",
    "# show first record \n",
    "for dkey, dval in new_rows[0].items():\n",
    "    #  making the output more readable using format method\n",
    "    print('{}: {}'.format(dkey, dval))\n",
    "    \n"
   ]
  },
  {
   "cell_type": "code",
   "execution_count": 13,
   "metadata": {},
   "outputs": [
    {
     "data": {
      "text/plain": [
       "'2008-08-08'"
      ]
     },
     "execution_count": 13,
     "metadata": {},
     "output_type": "execute_result"
    }
   ],
   "source": [
    "new_rows[0]['News_date']"
   ]
  },
  {
   "cell_type": "code",
   "execution_count": 14,
   "metadata": {},
   "outputs": [],
   "source": [
    "# converting news date to standard American time format\n",
    "for i in range(len(new_rows)):\n",
    "    new_rows[i]['News_date'] = datetime.strptime(new_rows[i]['News_date'], '%Y-%m-%d')\n",
    "    new_rows[i]['News_date'] = new_rows[i]['News_date'].strftime(\"%m/%d/%Y\")"
   ]
  },
  {
   "cell_type": "code",
   "execution_count": 15,
   "metadata": {},
   "outputs": [
    {
     "name": "stdout",
     "output_type": "stream",
     "text": [
      "News_date: 08/08/2008\n",
      "Stock_market_movement: DJIA Adj Close value decreased\n",
      "Top_news_headline1: Georgia 'downs two Russian warplanes' as countries move to brink of war\"\n",
      "Top_news_headline2: BREAKING: Musharraf to be impeached.'\n",
      "Top_news_headline3: Russia Today: Columns of troops roll into South Ossetia; footage from fighting (YouTube)'\n",
      "Top_news_headline4: Russian tanks are moving towards the capital of South Ossetia, which has reportedly been completely destroyed by Georgian artillery fire'\n",
      "Top_news_headline5: Afghan children raped with 'impunity,' U.N. official says - this is sick, a three year old was raped and they do nothing\"\n",
      "Top_news_headline6: 150 Russian tanks have entered South Ossetia whilst Georgia shoots down two Russian jets.'\n",
      "Top_news_headline7: Breaking: Georgia invades South Ossetia, Russia warned it would intervene on SO's side\"\n",
      "Top_news_headline8: The 'enemy combatent' trials are nothing but a sham: Salim Haman has been sentenced to 5 1/2 years, but will be kept longer anyway just because they feel like it.\"\n",
      "Top_news_headline9: Georgian troops retreat from S. Osettain capital, presumably leaving several hundred people killed. [VIDEO]'\n",
      "Top_news_headline10: Did the U.S. Prep Georgia for War with Russia?'\n",
      "Top_news_headline11: Rice Gives Green Light for Israel to Attack Iran: Says U.S. has no veto over Israeli military ops'\n",
      "Top_news_headline12: Announcing:Class Action Lawsuit on Behalf of American Public Against the FBI'\n",
      "Top_news_headline13: So---Russia and Georgia are at war and the NYT's top story is opening ceremonies of the Olympics?  What a fucking disgrace and yet further proof of the decline of journalism.\"\n",
      "Top_news_headline14: China tells Bush to stay out of other countries' affairs\"\n",
      "Top_news_headline15: Did World War III start today?'\n",
      "Top_news_headline16: Georgia Invades South Ossetia - if Russia gets involved, will NATO absorb Georgia and unleash a full scale war?'\n",
      "Top_news_headline17: Al-Qaeda Faces Islamist Backlash'\n",
      "Top_news_headline18: Condoleezza Rice: \"The US would not act to prevent an Israeli strike on Iran.\" Israeli Defense Minister Ehud Barak: \"Israel is prepared for uncompromising victory in the case of military hostilities.\"'\n",
      "Top_news_headline19: This is a busy day:  The European Union has approved new sanctions against Iran in protest at its nuclear programme.'\n",
      "Top_news_headline20: Georgia will withdraw 1,000 soldiers from Iraq to help fight off Russian forces in Georgia's breakaway region of South Ossetia\"\n",
      "Top_news_headline21: Why the Pentagon Thinks Attacking Iran is a Bad Idea - US News &amp; World Report'\n",
      "Top_news_headline22: Caucasus in crisis: Georgia invades South Ossetia'\n",
      "Top_news_headline23: Indian shoe manufactory  - And again in a series of \"you do not like your work?\"'\n",
      "Top_news_headline24: Visitors Suffering from Mental Illnesses Banned from Olympics'\n",
      "Top_news_headline25: No Help for Mexico's Kidnapping Surge\"\n"
     ]
    }
   ],
   "source": [
    "# print first row in readable format\n",
    "for dkey, dval in new_rows[0].items():\n",
    "    #  making the output more readable using format method\n",
    "    print('{}: {}'.format(dkey, dval))"
   ]
  },
  {
   "cell_type": "code",
   "execution_count": 16,
   "metadata": {
    "scrolled": false
   },
   "outputs": [
    {
     "name": "stdout",
     "output_type": "stream",
     "text": [
      "Date:09/15/2009 column name:Top_news_headline23, news:None\n",
      "Date:09/15/2009 column name:Top_news_headline24, news:None\n",
      "Date:09/15/2009 column name:Top_news_headline25, news:None\n",
      "Date:12/24/2009 column name:Top_news_headline24, news:None\n",
      "Date:12/24/2009 column name:Top_news_headline25, news:None\n",
      "Date:04/21/2011 column name:Top_news_headline24, news:None\n",
      "Date:04/21/2011 column name:Top_news_headline25, news:None\n"
     ]
    }
   ],
   "source": [
    "#Finding Outliers and Bad Data\n",
    "# looking for missing data\n",
    "\n",
    "# iterates through each record and extracts keys of each days dictionary\n",
    "for news in new_rows:\n",
    "    _columns = news.keys()\n",
    "    # iterates through each column \n",
    "    for _col in _columns:\n",
    "        # search na's and print\n",
    "        if news[_col] in [\"NA\",\"na\",\"n/a\",\"None\"]:\n",
    "            print(\"Date:\"+str(news['News_date']), \"column name:\"+str(_col)+\", news:\"+str(news[_col]))\n",
    "            "
   ]
  },
  {
   "cell_type": "code",
   "execution_count": 17,
   "metadata": {},
   "outputs": [
    {
     "data": {
      "text/plain": [
       "1989"
      ]
     },
     "execution_count": 17,
     "metadata": {},
     "output_type": "execute_result"
    }
   ],
   "source": [
    "# print number of records\n",
    "len(new_rows)"
   ]
  },
  {
   "cell_type": "code",
   "execution_count": 18,
   "metadata": {},
   "outputs": [
    {
     "data": {
      "text/plain": [
       "1989"
      ]
     },
     "execution_count": 18,
     "metadata": {},
     "output_type": "execute_result"
    }
   ],
   "source": [
    "# Finding Duplicates using list comprehension to remove duplicates \n",
    "res_list = [i for n, i in enumerate(new_rows) if i not in new_rows[n + 1:]] \n",
    "# printing length of resultant list\n",
    "len(res_list)"
   ]
  },
  {
   "cell_type": "code",
   "execution_count": 19,
   "metadata": {},
   "outputs": [
    {
     "data": {
      "text/plain": [
       "1989"
      ]
     },
     "execution_count": 19,
     "metadata": {},
     "output_type": "execute_result"
    }
   ],
   "source": [
    "# using frozenset to remove duplicates  \n",
    "res_list1 = {frozenset(item.items()) : item for item in new_rows}.values()\n",
    "\n",
    "# printing length of resultant list \n",
    "len(res_list1)\n"
   ]
  },
  {
   "cell_type": "code",
   "execution_count": 21,
   "metadata": {},
   "outputs": [
    {
     "name": "stdout",
     "output_type": "stream",
     "text": [
      "duplicate news: Top_news_headline24 : None\n",
      "duplicate date: 09/15/2009\n",
      "duplicate news: Top_news_headline25 : None\n",
      "duplicate date: 09/15/2009\n",
      "duplicate news: Top_news_headline24 : None\n",
      "duplicate date: 12/24/2009\n",
      "duplicate news: Top_news_headline25 : None\n",
      "duplicate date: 12/24/2009\n",
      "duplicate news: Top_news_headline24 : None\n",
      "duplicate date: 04/21/2011\n",
      "duplicate news: Top_news_headline25 : None\n",
      "duplicate date: 04/21/2011\n",
      "duplicate news: Top_news_headline3 : Putin: Who gave NATO right to kill Gaddafi?\n",
      "duplicate date: 04/27/2011\n",
      "duplicate news: Top_news_headline3 : Putin: Who gave NATO right to kill Gaddafi?\n",
      "duplicate date: 07/05/2011\n"
     ]
    }
   ],
   "source": [
    "# trying to find out any duplicate value in each column \n",
    "# define a function to return repeated news count for each record \n",
    "def getNewsCount(news, news_rows, x):\n",
    "    count = 0\n",
    "    for new_record in news_rows:\n",
    "        if new_record.get('Top_news_headline'+str(x)) == news:\n",
    "            count += 1\n",
    "    return count\n",
    "# iterates through each record    \n",
    "for i in range(len(new_rows)):\n",
    "    # iterates through 1 to 25 top news\n",
    "    for x in range(1,26):\n",
    "        # if news repeats print news and date\n",
    "        if getNewsCount(new_rows[i].get('Top_news_headline'+str(x)), new_rows,x) > 1:\n",
    "            print(\"duplicate news:\",'Top_news_headline'+str(x),':',new_rows[i].get('Top_news_headline'+str(x)))\n",
    "            print(\"duplicate date:\",new_rows[i].get('News_date'))\n",
    "            "
   ]
  },
  {
   "cell_type": "code",
   "execution_count": 30,
   "metadata": {},
   "outputs": [
    {
     "name": "stdout",
     "output_type": "stream",
     "text": [
      "22\n"
     ]
    }
   ],
   "source": [
    "from fuzzywuzzy import fuzz\n",
    "# Fuzzy Matching using fuzz module’s ratio function\n",
    "print(fuzz.ratio(new_rows[0], new_rows[1]))\n"
   ]
  },
  {
   "cell_type": "code",
   "execution_count": 28,
   "metadata": {},
   "outputs": [
    {
     "name": "stdout",
     "output_type": "stream",
     "text": [
      "16\n"
     ]
    }
   ],
   "source": [
    "# Fuzzy Matching using fuzz module’s partial_ratio function\n",
    "print(fuzz.partial_ratio(new_rows[0], new_rows[1]))"
   ]
  },
  {
   "cell_type": "code",
   "execution_count": 31,
   "metadata": {},
   "outputs": [
    {
     "name": "stdout",
     "output_type": "stream",
     "text": [
      "23\n"
     ]
    }
   ],
   "source": [
    "# Fuzzy Matching using fuzz module’s token_sort_ratio function\n",
    "print(fuzz.token_sort_ratio(new_rows[0], new_rows[1]))"
   ]
  },
  {
   "cell_type": "code",
   "execution_count": 32,
   "metadata": {},
   "outputs": [
    {
     "name": "stdout",
     "output_type": "stream",
     "text": [
      "65\n"
     ]
    }
   ],
   "source": [
    "# Fuzzy Matching using fuzz module’s token_set_ratio function\n",
    "print(fuzz.token_set_ratio(new_rows[0], new_rows[1]))"
   ]
  },
  {
   "cell_type": "markdown",
   "metadata": {},
   "source": [
    "fuzz module’s token_set_ratio function gave the best possible match of sorted tokens and returned the ratio of similarity for those tokens."
   ]
  },
  {
   "cell_type": "code",
   "execution_count": null,
   "metadata": {},
   "outputs": [],
   "source": []
  }
 ],
 "metadata": {
  "kernelspec": {
   "display_name": "Python 3",
   "language": "python",
   "name": "python3"
  },
  "language_info": {
   "codemirror_mode": {
    "name": "ipython",
    "version": 3
   },
   "file_extension": ".py",
   "mimetype": "text/x-python",
   "name": "python",
   "nbconvert_exporter": "python",
   "pygments_lexer": "ipython3",
   "version": "3.7.1"
  }
 },
 "nbformat": 4,
 "nbformat_minor": 2
}
